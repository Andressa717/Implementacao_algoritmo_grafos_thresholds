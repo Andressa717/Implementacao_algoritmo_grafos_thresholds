{
  "nbformat": 4,
  "nbformat_minor": 0,
  "metadata": {
    "colab": {
      "provenance": []
    },
    "kernelspec": {
      "name": "python3",
      "display_name": "Python 3"
    },
    "language_info": {
      "name": "python"
    }
  },
  "cells": [
    {
      "cell_type": "code",
      "execution_count": null,
      "metadata": {
        "id": "F16GyHYoEvGV"
      },
      "outputs": [],
      "source": [
        "from IPython.core.interactiveshell import InteractiveShell\n",
        "InteractiveShell.ast_node_interactivity = \"all\" #Mostra todos os computos por célula, não somente o último resultado\n",
        "\n",
        "from sympy import init_printing, pprint   # \"printing\" é um pacote para imprimir bonitinho,\n",
        "init_printing(use_latex='mathjax')\n",
        "\n",
        "from sympy import *"
      ]
    },
    {
      "cell_type": "code",
      "source": [
        "a = [3,2,1,1]"
      ],
      "metadata": {
        "id": "M9ADQUxhE1Jb"
      },
      "execution_count": null,
      "outputs": []
    },
    {
      "cell_type": "code",
      "source": [
        "def diag(x):\n",
        "  b = []\n",
        "  alternar = 0\n",
        "  for valor in a:\n",
        "    for i in range(valor):\n",
        "      b.append(alternar)\n",
        "    alternar = 1 - alternar\n",
        "  n = sum(a) #ordem da matriz\n",
        "  d = [x] * n\n",
        "\n",
        "  for m in range(1,n):\n",
        "    y = d[-m]\n",
        "    if b[-m-1] == 1 and b[-m] == 1:    #caso 1\n",
        "      if y+x != 2:                     #subcaso 1a\n",
        "        d[-m-1] = (y*x - 1)/(y+x-2)\n",
        "        d[-m] = y+x-2\n",
        "      elif x==1:                       #subcaso 1b\n",
        "        d[-m-1] = 1\n",
        "        d[-m] = 0\n",
        "      else:                            #subcaso 1c\n",
        "        d[-m-1] = 1\n",
        "        d[-m] = -(1-x)**2\n",
        "        b[-m-1] = 0\n",
        "    elif b[-m-1] == 0 and b[-m] == 1:  #caso 2\n",
        "      if x == 0:                       #subcaso 2a\n",
        "        d[-m-1] = 1\n",
        "        d[-m] = -1\n",
        "      else:                            #subcaso 2b\n",
        "        d[-m-1] = y - (1/x)\n",
        "        d[-m] = x\n",
        "        b[-m-1] = 1\n",
        "    else:                              #caso 3\n",
        "      d[-m] = y\n",
        "      d[-m-1] = x\n",
        "  return(d)\n",
        "\n",
        "while True:\n",
        "  x = float(input(\"Digite um número:\"))\n",
        "  diag(-x)\n",
        "  resultado = diag(-x)\n",
        "  print(resultado)\n",
        "  continuar = input(\"Deseja continuar? (s/n): \")\n",
        "  if continuar.lower() != \"s\":\n",
        "    break"
      ],
      "metadata": {
        "colab": {
          "base_uri": "https://localhost:8080/"
        },
        "id": "puCQCkDPE5w_",
        "outputId": "2f2e05d5-efc4-4f72-c0ca-c0afaf0dd231"
      },
      "execution_count": null,
      "outputs": [
        {
          "name": "stdout",
          "output_type": "stream",
          "text": [
            "Digite um número:-2\n",
            "[-0.24999999999999978, 2.0, 2.0, 2.0, 1.333333333333333, 1.5, 2.0]\n",
            "Deseja continuar? (s/n): s\n",
            "Digite um número:0\n",
            "[-0.0, -0.0, 1, -1, -2.0, 1, -1]\n",
            "Deseja continuar? (s/n): n\n"
          ]
        }
      ]
    }
  ]
}